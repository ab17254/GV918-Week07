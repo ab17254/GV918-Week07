{
  "nbformat": 4,
  "nbformat_minor": 0,
  "metadata": {
    "colab": {
      "name": "Week07-Class-Exercise.ipynb",
      "provenance": [],
      "collapsed_sections": [],
      "toc_visible": true
    },
    "kernelspec": {
      "name": "python3",
      "display_name": "Python 3"
    }
  },
  "cells": [
    {
      "cell_type": "markdown",
      "metadata": {
        "id": "h4t5FqMBwlCy"
      },
      "source": [
        "# Tasks\n",
        "\n",
        "We will be keep working on the list of Member of the parliament (https://members.parliament.uk/members/commons)\n",
        "\n",
        "We will:\n",
        "\n",
        "1. extract the information from later pages\n",
        "2. construct a function to fetch information from each page\n",
        "3. combine dataframes \n",
        "4. visit individual member pages and extract information\n",
        "\n",
        "\n",
        "\n"
      ]
    },
    {
      "cell_type": "markdown",
      "metadata": {
        "id": "vGWGL24Uw2fC"
      },
      "source": [
        "# Load packages"
      ]
    },
    {
      "cell_type": "code",
      "metadata": {
        "id": "38aSBQGpw2Fm"
      },
      "source": [
        "from urllib.request import urlopen\n",
        "from bs4 import BeautifulSoup\n",
        "import pandas as pd\n",
        "from time import sleep\n",
        "import re\n",
        "import requests"
      ],
      "execution_count": 7,
      "outputs": []
    },
    {
      "cell_type": "markdown",
      "metadata": {
        "id": "bbs0ztWLy6ko"
      },
      "source": [
        "# Extract the first page\n"
      ]
    },
    {
      "cell_type": "code",
      "metadata": {
        "id": "5d_DIDE6y6Ap"
      },
      "source": [
        "url = \"https://members.parliament.uk/members/commons\"\n",
        "html = urlopen(url)\n",
        "bs = BeautifulSoup(html, \"html.parser\")\n",
        "name_tags = bs.select('.primary-info')\n",
        "mp_names = [item.get_text().strip() for item in name_tags]\n",
        "party_names = [item.get_text().strip() for item in bs.select('.secondary-info')]\n",
        "const_names = [item.get_text().strip() for item in bs.select('.indicator-label')]\n",
        "part_url = [item['href'] for item in bs.select('.card-member')]\n",
        "full_url = [\"https://members.parliament.uk\" + item['href'] for item in bs.select('.card-member')]\n",
        "df_mps = pd.DataFrame(mp_names, columns = ['Name'])\n",
        "df_mps['Const'] = const_names\n",
        "df_mps['Party'] = party_names\n",
        "df_mps['Ind_page'] = full_url"
      ],
      "execution_count": 2,
      "outputs": []
    },
    {
      "cell_type": "code",
      "metadata": {
        "id": "1WQR1FPePg1k",
        "outputId": "853fe15f-9ad0-410b-e8b8-16e9e19c2239",
        "colab": {
          "base_uri": "https://localhost:8080/",
          "height": 669
        }
      },
      "source": [
        "df_mps"
      ],
      "execution_count": 3,
      "outputs": [
        {
          "output_type": "execute_result",
          "data": {
            "text/html": [
              "<div>\n",
              "<style scoped>\n",
              "    .dataframe tbody tr th:only-of-type {\n",
              "        vertical-align: middle;\n",
              "    }\n",
              "\n",
              "    .dataframe tbody tr th {\n",
              "        vertical-align: top;\n",
              "    }\n",
              "\n",
              "    .dataframe thead th {\n",
              "        text-align: right;\n",
              "    }\n",
              "</style>\n",
              "<table border=\"1\" class=\"dataframe\">\n",
              "  <thead>\n",
              "    <tr style=\"text-align: right;\">\n",
              "      <th></th>\n",
              "      <th>Name</th>\n",
              "      <th>Const</th>\n",
              "      <th>Party</th>\n",
              "      <th>Ind_page</th>\n",
              "    </tr>\n",
              "  </thead>\n",
              "  <tbody>\n",
              "    <tr>\n",
              "      <th>0</th>\n",
              "      <td>Ms Diane Abbott</td>\n",
              "      <td>Hackney North and Stoke Newington</td>\n",
              "      <td>Labour</td>\n",
              "      <td>https://members.parliament.uk/member/172/contact</td>\n",
              "    </tr>\n",
              "    <tr>\n",
              "      <th>1</th>\n",
              "      <td>Debbie Abrahams</td>\n",
              "      <td>Oldham East and Saddleworth</td>\n",
              "      <td>Labour</td>\n",
              "      <td>https://members.parliament.uk/member/4212/contact</td>\n",
              "    </tr>\n",
              "    <tr>\n",
              "      <th>2</th>\n",
              "      <td>Nigel Adams</td>\n",
              "      <td>Selby and Ainsty</td>\n",
              "      <td>Conservative</td>\n",
              "      <td>https://members.parliament.uk/member/4057/contact</td>\n",
              "    </tr>\n",
              "    <tr>\n",
              "      <th>3</th>\n",
              "      <td>Bim Afolami</td>\n",
              "      <td>Hitchin and Harpenden</td>\n",
              "      <td>Conservative</td>\n",
              "      <td>https://members.parliament.uk/member/4639/contact</td>\n",
              "    </tr>\n",
              "    <tr>\n",
              "      <th>4</th>\n",
              "      <td>Adam Afriyie</td>\n",
              "      <td>Windsor</td>\n",
              "      <td>Conservative</td>\n",
              "      <td>https://members.parliament.uk/member/1586/contact</td>\n",
              "    </tr>\n",
              "    <tr>\n",
              "      <th>5</th>\n",
              "      <td>Imran Ahmad Khan</td>\n",
              "      <td>Wakefield</td>\n",
              "      <td>Conservative</td>\n",
              "      <td>https://members.parliament.uk/member/4841/contact</td>\n",
              "    </tr>\n",
              "    <tr>\n",
              "      <th>6</th>\n",
              "      <td>Nickie Aiken</td>\n",
              "      <td>Cities of London and Westminster</td>\n",
              "      <td>Conservative</td>\n",
              "      <td>https://members.parliament.uk/member/4741/contact</td>\n",
              "    </tr>\n",
              "    <tr>\n",
              "      <th>7</th>\n",
              "      <td>Peter Aldous</td>\n",
              "      <td>Waveney</td>\n",
              "      <td>Conservative</td>\n",
              "      <td>https://members.parliament.uk/member/4069/contact</td>\n",
              "    </tr>\n",
              "    <tr>\n",
              "      <th>8</th>\n",
              "      <td>Rushanara Ali</td>\n",
              "      <td>Bethnal Green and Bow</td>\n",
              "      <td>Labour</td>\n",
              "      <td>https://members.parliament.uk/member/4138/contact</td>\n",
              "    </tr>\n",
              "    <tr>\n",
              "      <th>9</th>\n",
              "      <td>Tahir Ali</td>\n",
              "      <td>Birmingham, Hall Green</td>\n",
              "      <td>Labour</td>\n",
              "      <td>https://members.parliament.uk/member/4747/contact</td>\n",
              "    </tr>\n",
              "    <tr>\n",
              "      <th>10</th>\n",
              "      <td>Lucy Allan</td>\n",
              "      <td>Telford</td>\n",
              "      <td>Conservative</td>\n",
              "      <td>https://members.parliament.uk/member/4411/contact</td>\n",
              "    </tr>\n",
              "    <tr>\n",
              "      <th>11</th>\n",
              "      <td>Dr Rosena Allin-Khan</td>\n",
              "      <td>Tooting</td>\n",
              "      <td>Labour</td>\n",
              "      <td>https://members.parliament.uk/member/4573/contact</td>\n",
              "    </tr>\n",
              "    <tr>\n",
              "      <th>12</th>\n",
              "      <td>Mike Amesbury</td>\n",
              "      <td>Weaver Vale</td>\n",
              "      <td>Labour</td>\n",
              "      <td>https://members.parliament.uk/member/4667/contact</td>\n",
              "    </tr>\n",
              "    <tr>\n",
              "      <th>13</th>\n",
              "      <td>Sir David Amess</td>\n",
              "      <td>Southend West</td>\n",
              "      <td>Conservative</td>\n",
              "      <td>https://members.parliament.uk/member/44/contact</td>\n",
              "    </tr>\n",
              "    <tr>\n",
              "      <th>14</th>\n",
              "      <td>Fleur Anderson</td>\n",
              "      <td>Putney</td>\n",
              "      <td>Labour</td>\n",
              "      <td>https://members.parliament.uk/member/4788/contact</td>\n",
              "    </tr>\n",
              "    <tr>\n",
              "      <th>15</th>\n",
              "      <td>Lee Anderson</td>\n",
              "      <td>Ashfield</td>\n",
              "      <td>Conservative</td>\n",
              "      <td>https://members.parliament.uk/member/4743/contact</td>\n",
              "    </tr>\n",
              "    <tr>\n",
              "      <th>16</th>\n",
              "      <td>Stuart Anderson</td>\n",
              "      <td>Wolverhampton South West</td>\n",
              "      <td>Conservative</td>\n",
              "      <td>https://members.parliament.uk/member/4742/contact</td>\n",
              "    </tr>\n",
              "    <tr>\n",
              "      <th>17</th>\n",
              "      <td>Stuart Andrew</td>\n",
              "      <td>Pudsey</td>\n",
              "      <td>Conservative</td>\n",
              "      <td>https://members.parliament.uk/member/4032/contact</td>\n",
              "    </tr>\n",
              "    <tr>\n",
              "      <th>18</th>\n",
              "      <td>Caroline Ansell</td>\n",
              "      <td>Eastbourne</td>\n",
              "      <td>Conservative</td>\n",
              "      <td>https://members.parliament.uk/member/4512/contact</td>\n",
              "    </tr>\n",
              "    <tr>\n",
              "      <th>19</th>\n",
              "      <td>Tonia Antoniazzi</td>\n",
              "      <td>Gower</td>\n",
              "      <td>Labour</td>\n",
              "      <td>https://members.parliament.uk/member/4623/contact</td>\n",
              "    </tr>\n",
              "  </tbody>\n",
              "</table>\n",
              "</div>"
            ],
            "text/plain": [
              "                    Name  ...                                           Ind_page\n",
              "0        Ms Diane Abbott  ...   https://members.parliament.uk/member/172/contact\n",
              "1        Debbie Abrahams  ...  https://members.parliament.uk/member/4212/contact\n",
              "2            Nigel Adams  ...  https://members.parliament.uk/member/4057/contact\n",
              "3            Bim Afolami  ...  https://members.parliament.uk/member/4639/contact\n",
              "4           Adam Afriyie  ...  https://members.parliament.uk/member/1586/contact\n",
              "5       Imran Ahmad Khan  ...  https://members.parliament.uk/member/4841/contact\n",
              "6           Nickie Aiken  ...  https://members.parliament.uk/member/4741/contact\n",
              "7           Peter Aldous  ...  https://members.parliament.uk/member/4069/contact\n",
              "8          Rushanara Ali  ...  https://members.parliament.uk/member/4138/contact\n",
              "9              Tahir Ali  ...  https://members.parliament.uk/member/4747/contact\n",
              "10            Lucy Allan  ...  https://members.parliament.uk/member/4411/contact\n",
              "11  Dr Rosena Allin-Khan  ...  https://members.parliament.uk/member/4573/contact\n",
              "12         Mike Amesbury  ...  https://members.parliament.uk/member/4667/contact\n",
              "13       Sir David Amess  ...    https://members.parliament.uk/member/44/contact\n",
              "14        Fleur Anderson  ...  https://members.parliament.uk/member/4788/contact\n",
              "15          Lee Anderson  ...  https://members.parliament.uk/member/4743/contact\n",
              "16       Stuart Anderson  ...  https://members.parliament.uk/member/4742/contact\n",
              "17         Stuart Andrew  ...  https://members.parliament.uk/member/4032/contact\n",
              "18       Caroline Ansell  ...  https://members.parliament.uk/member/4512/contact\n",
              "19      Tonia Antoniazzi  ...  https://members.parliament.uk/member/4623/contact\n",
              "\n",
              "[20 rows x 4 columns]"
            ]
          },
          "metadata": {
            "tags": []
          },
          "execution_count": 3
        }
      ]
    },
    {
      "cell_type": "markdown",
      "metadata": {
        "id": "r9is0zZamrvB"
      },
      "source": [
        "# Explore the rest of pages\n",
        "\n",
        "- How many pages exists?\n",
        "- How these urls are constructed?\n"
      ]
    },
    {
      "cell_type": "markdown",
      "metadata": {
        "id": "MHAhadTBm2xe"
      },
      "source": [
        "# Construct a function for extract individual pages"
      ]
    },
    {
      "cell_type": "code",
      "metadata": {
        "id": "XGfciNcZj1tv"
      },
      "source": [
        "def extract(url):\n",
        "  name_tags = bs.select('.primary-info')\n",
        "  mp_names = [item.get_text().strip() for item in name_tags]\n",
        "  party_names = [item.get_text().strip() for item in bs.select('.secondary-info')]\n",
        "  const_names = [item.get_text().strip() for item in bs.select('.indicator-label')]\n",
        "  part_url = [item['href'] for item in bs.select('.card-member')]\n",
        "  full_url = [\"https://members.parliament.uk\" + item['href'] for item in bs.select('.card-member')]\n",
        "\n",
        "  "
      ],
      "execution_count": 4,
      "outputs": []
    },
    {
      "cell_type": "markdown",
      "metadata": {
        "id": "MLQ7yGbDn8zQ"
      },
      "source": [
        "# Generate a list of URLs"
      ]
    },
    {
      "cell_type": "code",
      "metadata": {
        "id": "78OLcVsL_TCo",
        "outputId": "72c022e0-0fa4-4e38-918f-3b88b9b89f7e",
        "colab": {
          "base_uri": "https://localhost:8080/"
        }
      },
      "source": [
        "def getLast(base_url):\n",
        "  for url in [base_url.format(page) for page in range(1)]:\n",
        "    soup = BeautifulSoup(requests.get(url).text,'html')\n",
        "    last = soup.find('li', {'class': 'last'}).a\n",
        "    end_page = last['href'].split('=')[1]\n",
        "    return(end_page)\n",
        "\n",
        "\n",
        "def getUrls(base_url):\n",
        "  for url in [base_url.format(page) for page in range(int(getLast(base_url)))]:\n",
        "    soup = BeautifulSoup(requests.get(url).text,'html')\n",
        "    li = soup.find('li',{'class': 'next'}).a\n",
        "    return li['href']\n",
        "\n",
        "url = \"https://members.parliament.uk/members/commons?page=1\"\n",
        "url_list = [url]\n",
        "page_count = 1\n",
        "for pages in range(int(getLast(url))-1):\n",
        "  page_url = getUrls(\"https://members.parliament.uk/members/commons?page=\"+str(page_count))\n",
        "  page_count += 1\n",
        "  full_url = \"https://members.parliament.uk\" + page_url\n",
        "  url_list.append(full_url)\n",
        "print(url_list)"
      ],
      "execution_count": 17,
      "outputs": [
        {
          "output_type": "stream",
          "text": [
            "['https://members.parliament.uk/members/commons?page=1', 'https://members.parliament.uk/members/commons?page=2', 'https://members.parliament.uk/members/commons?page=3', 'https://members.parliament.uk/members/commons?page=4', 'https://members.parliament.uk/members/commons?page=5', 'https://members.parliament.uk/members/commons?page=6', 'https://members.parliament.uk/members/commons?page=7', 'https://members.parliament.uk/members/commons?page=8', 'https://members.parliament.uk/members/commons?page=9', 'https://members.parliament.uk/members/commons?page=10', 'https://members.parliament.uk/members/commons?page=11', 'https://members.parliament.uk/members/commons?page=12', 'https://members.parliament.uk/members/commons?page=13', 'https://members.parliament.uk/members/commons?page=14', 'https://members.parliament.uk/members/commons?page=15', 'https://members.parliament.uk/members/commons?page=16', 'https://members.parliament.uk/members/commons?page=17', 'https://members.parliament.uk/members/commons?page=18', 'https://members.parliament.uk/members/commons?page=19', 'https://members.parliament.uk/members/commons?page=20', 'https://members.parliament.uk/members/commons?page=21', 'https://members.parliament.uk/members/commons?page=22', 'https://members.parliament.uk/members/commons?page=23', 'https://members.parliament.uk/members/commons?page=24', 'https://members.parliament.uk/members/commons?page=25', 'https://members.parliament.uk/members/commons?page=26', 'https://members.parliament.uk/members/commons?page=27', 'https://members.parliament.uk/members/commons?page=28', 'https://members.parliament.uk/members/commons?page=29', 'https://members.parliament.uk/members/commons?page=30', 'https://members.parliament.uk/members/commons?page=31', 'https://members.parliament.uk/members/commons?page=32', 'https://members.parliament.uk/members/commons?page=33']\n"
          ],
          "name": "stdout"
        }
      ]
    },
    {
      "cell_type": "markdown",
      "metadata": {
        "id": "7wYNi0Gpokqq"
      },
      "source": [
        "# Extract all pages"
      ]
    },
    {
      "cell_type": "code",
      "metadata": {
        "id": "UXjGeoogj6Ui"
      },
      "source": [
        ""
      ],
      "execution_count": null,
      "outputs": []
    },
    {
      "cell_type": "markdown",
      "metadata": {
        "id": "4-OH3nZMj9xp"
      },
      "source": [
        "## Using for loop"
      ]
    },
    {
      "cell_type": "code",
      "metadata": {
        "id": "zIz8_3ALj9Qe"
      },
      "source": [
        ""
      ],
      "execution_count": null,
      "outputs": []
    },
    {
      "cell_type": "markdown",
      "metadata": {
        "id": "CM_3Vi45rFtZ"
      },
      "source": [
        "## Using list comprehension"
      ]
    },
    {
      "cell_type": "code",
      "metadata": {
        "id": "i_JoZCm_kF3_"
      },
      "source": [
        ""
      ],
      "execution_count": null,
      "outputs": []
    },
    {
      "cell_type": "markdown",
      "metadata": {
        "id": "ChhK4aU1po4M"
      },
      "source": [
        "## Using map()"
      ]
    },
    {
      "cell_type": "code",
      "metadata": {
        "id": "Xj50oGj_kGJa"
      },
      "source": [
        ""
      ],
      "execution_count": null,
      "outputs": []
    },
    {
      "cell_type": "markdown",
      "metadata": {
        "id": "ffwgVYMLy8a4"
      },
      "source": [
        "# Visit individual page and get some information\n",
        "\n",
        "For example:\n",
        "\n",
        "- https://members.parliament.uk/member/1586/contact"
      ]
    },
    {
      "cell_type": "code",
      "metadata": {
        "id": "jgvpZE_Wy1sg"
      },
      "source": [
        "bs = BeautifulSoup(urlopen('https://members.parliament.uk/member/1586/contact'), 'html.parser')"
      ],
      "execution_count": null,
      "outputs": []
    },
    {
      "cell_type": "markdown",
      "metadata": {
        "id": "gkWVWtlFLrdI"
      },
      "source": [
        "# Save the data"
      ]
    },
    {
      "cell_type": "code",
      "metadata": {
        "id": "epq4KWBhLrMW"
      },
      "source": [
        ""
      ],
      "execution_count": null,
      "outputs": []
    }
  ]
}