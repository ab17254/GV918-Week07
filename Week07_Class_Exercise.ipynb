{
  "nbformat": 4,
  "nbformat_minor": 0,
  "metadata": {
    "colab": {
      "name": "Week07-Class-Exercise.ipynb",
      "provenance": [],
      "collapsed_sections": [],
      "toc_visible": true
    },
    "kernelspec": {
      "name": "python3",
      "display_name": "Python 3"
    }
  },
  "cells": [
    {
      "cell_type": "markdown",
      "metadata": {
        "id": "h4t5FqMBwlCy"
      },
      "source": [
        "# Tasks\n",
        "\n",
        "We will be keep working on the list of Member of the parliament (https://members.parliament.uk/members/commons)\n",
        "\n",
        "We will:\n",
        "\n",
        "1. extract the information from later pages\n",
        "2. construct a function to fetch information from each page\n",
        "3. combine dataframes \n",
        "4. visit individual member pages and extract information\n",
        "\n",
        "\n",
        "\n"
      ]
    },
    {
      "cell_type": "markdown",
      "metadata": {
        "id": "vGWGL24Uw2fC"
      },
      "source": [
        "# Load packages"
      ]
    },
    {
      "cell_type": "code",
      "metadata": {
        "id": "38aSBQGpw2Fm"
      },
      "source": [
        "from urllib.request import urlopen\n",
        "from bs4 import BeautifulSoup\n",
        "import pandas as pd\n",
        "from time import sleep\n",
        "import re\n",
        "import requests\n",
        "import numpy as np"
      ],
      "execution_count": 2,
      "outputs": []
    },
    {
      "cell_type": "markdown",
      "metadata": {
        "id": "bbs0ztWLy6ko"
      },
      "source": [
        "# Extract the first page\n"
      ]
    },
    {
      "cell_type": "code",
      "metadata": {
        "id": "5d_DIDE6y6Ap"
      },
      "source": [
        "url = \"https://members.parliament.uk/members/commons?page=33\"\n",
        "html = urlopen(url)\n",
        "bs = BeautifulSoup(html, \"html.parser\")\n",
        "name_tags = bs.select('.primary-info')\n",
        "mp_names = [item.get_text().strip() for item in name_tags]\n",
        "party_names = [item.get_text().strip() for item in bs.select('.secondary-info')]\n",
        "const_names = [item.get_text().strip() for item in bs.select('.indicator-label')]\n",
        "part_url = [item['href'] for item in bs.select('.card-member')]\n",
        "full_url = [\"https://members.parliament.uk\" + item['href'] for item in bs.select('.card-member')]\n",
        "df_mps = pd.DataFrame(mp_names, columns = ['Name'])\n",
        "df_mps['Const'] = const_names\n",
        "df_mps['Party'] = party_names\n",
        "df_mps['Ind_page'] = full_url"
      ],
      "execution_count": 14,
      "outputs": []
    },
    {
      "cell_type": "code",
      "metadata": {
        "id": "1WQR1FPePg1k"
      },
      "source": [
        "df_mps"
      ],
      "execution_count": null,
      "outputs": []
    },
    {
      "cell_type": "markdown",
      "metadata": {
        "id": "r9is0zZamrvB"
      },
      "source": [
        "# Explore the rest of pages\n",
        "\n",
        "- How many pages exists?\n",
        "- How these urls are constructed?\n"
      ]
    },
    {
      "cell_type": "markdown",
      "metadata": {
        "id": "MHAhadTBm2xe"
      },
      "source": [
        "# Construct a function for extract individual pages"
      ]
    },
    {
      "cell_type": "code",
      "metadata": {
        "id": "XGfciNcZj1tv"
      },
      "source": [
        "def extract(url):\n",
        "  html = urlopen(url)\n",
        "  bs = BeautifulSoup(html, \"html.parser\")\n",
        "  name_tags = bs.select('.primary-info')\n",
        "  mp_names = [item.get_text().strip() for item in name_tags]\n",
        "  party_names = [item.get_text().strip() for item in bs.select('.secondary-info')]\n",
        "  const_names = [item.get_text().strip() for item in bs.select('.indicator-label')]\n",
        "  part_url = [item['href'] for item in bs.select('.card-member')]\n",
        "  full_url = [\"https://members.parliament.uk\" + item['href'] for item in bs.select('.card-member')]\n",
        "  #dataframe['Name'] = mp_names\n",
        "  #dataframe['Const'] = const_names\n",
        "  #dataframe['Party'] = party_names\n",
        "  #dataframe['Ind_page'] = full_url\n",
        "  return(mp_names, const_names, party_names, full_url)\n"
      ],
      "execution_count": 3,
      "outputs": []
    },
    {
      "cell_type": "markdown",
      "metadata": {
        "id": "MLQ7yGbDn8zQ"
      },
      "source": [
        "# Generate a list of URLs"
      ]
    },
    {
      "cell_type": "code",
      "metadata": {
        "id": "78OLcVsL_TCo",
        "outputId": "9cdbeac7-0f9c-4c44-e8a5-eb5f2c5b7a4e",
        "colab": {
          "base_uri": "https://localhost:8080/"
        }
      },
      "source": [
        "def getLast(base_url):\n",
        "  for url in [base_url.format(page) for page in range(1)]:\n",
        "    soup = BeautifulSoup(requests.get(url).text,'html')\n",
        "    last = soup.find('li', {'class': 'last'}).a\n",
        "    end_page = last['href'].split('=')[1]\n",
        "    return(end_page)\n",
        "\n",
        "\n",
        "def getUrls(base_url):\n",
        "  for url in [base_url.format(page) for page in range(int(getLast(base_url)))]:\n",
        "    soup = BeautifulSoup(requests.get(url).text,'html')\n",
        "    li = soup.find('li',{'class': 'next'}).a\n",
        "    return li['href']\n",
        "\n",
        "url = \"https://members.parliament.uk/members/commons?page=1\"\n",
        "url_list = [url]\n",
        "page_count = 1\n",
        "for pages in range(int(getLast(url))-1):\n",
        "  page_url = getUrls(\"https://members.parliament.uk/members/commons?page=\"+str(page_count))\n",
        "  page_count += 1\n",
        "  full_url = \"https://members.parliament.uk\" + page_url\n",
        "  url_list.append(full_url)\n",
        "print(url_list)"
      ],
      "execution_count": 4,
      "outputs": [
        {
          "output_type": "stream",
          "text": [
            "['https://members.parliament.uk/members/commons?page=1', 'https://members.parliament.uk/members/commons?page=2', 'https://members.parliament.uk/members/commons?page=3', 'https://members.parliament.uk/members/commons?page=4', 'https://members.parliament.uk/members/commons?page=5', 'https://members.parliament.uk/members/commons?page=6', 'https://members.parliament.uk/members/commons?page=7', 'https://members.parliament.uk/members/commons?page=8', 'https://members.parliament.uk/members/commons?page=9', 'https://members.parliament.uk/members/commons?page=10', 'https://members.parliament.uk/members/commons?page=11', 'https://members.parliament.uk/members/commons?page=12', 'https://members.parliament.uk/members/commons?page=13', 'https://members.parliament.uk/members/commons?page=14', 'https://members.parliament.uk/members/commons?page=15', 'https://members.parliament.uk/members/commons?page=16', 'https://members.parliament.uk/members/commons?page=17', 'https://members.parliament.uk/members/commons?page=18', 'https://members.parliament.uk/members/commons?page=19', 'https://members.parliament.uk/members/commons?page=20', 'https://members.parliament.uk/members/commons?page=21', 'https://members.parliament.uk/members/commons?page=22', 'https://members.parliament.uk/members/commons?page=23', 'https://members.parliament.uk/members/commons?page=24', 'https://members.parliament.uk/members/commons?page=25', 'https://members.parliament.uk/members/commons?page=26', 'https://members.parliament.uk/members/commons?page=27', 'https://members.parliament.uk/members/commons?page=28', 'https://members.parliament.uk/members/commons?page=29', 'https://members.parliament.uk/members/commons?page=30', 'https://members.parliament.uk/members/commons?page=31', 'https://members.parliament.uk/members/commons?page=32', 'https://members.parliament.uk/members/commons?page=33']\n"
          ],
          "name": "stdout"
        }
      ]
    },
    {
      "cell_type": "markdown",
      "metadata": {
        "id": "7wYNi0Gpokqq"
      },
      "source": [
        "\n",
        "\n",
        "# Extract all pages"
      ]
    },
    {
      "cell_type": "code",
      "metadata": {
        "id": "UXjGeoogj6Ui"
      },
      "source": [
        "mp_df = pd.DataFrame(columns=['Name'])\n",
        "for url in url_list:\n",
        "  mp_names = (extract(url)[0])\n",
        "  mp_const = extract(url)[1]\n",
        "  mp_party = extract(url)[2]\n",
        "  mp_page = extract(url)[3]\n",
        "  for mp in mp_names:\n",
        "    mp_df = mp_df.append({'Name':mp}, ignore_index=True)\n",
        "\n",
        "\n",
        "  \n",
        "\n",
        "\n"
      ],
      "execution_count": 41,
      "outputs": []
    },
    {
      "cell_type": "code",
      "metadata": {
        "id": "CrjIBRZDzj02",
        "outputId": "ee87dedb-4b43-4d99-f3bc-299faf7cbda0",
        "colab": {
          "base_uri": "https://localhost:8080/",
          "height": 419
        }
      },
      "source": [
        "mp_df"
      ],
      "execution_count": 42,
      "outputs": [
        {
          "output_type": "execute_result",
          "data": {
            "text/html": [
              "<div>\n",
              "<style scoped>\n",
              "    .dataframe tbody tr th:only-of-type {\n",
              "        vertical-align: middle;\n",
              "    }\n",
              "\n",
              "    .dataframe tbody tr th {\n",
              "        vertical-align: top;\n",
              "    }\n",
              "\n",
              "    .dataframe thead th {\n",
              "        text-align: right;\n",
              "    }\n",
              "</style>\n",
              "<table border=\"1\" class=\"dataframe\">\n",
              "  <thead>\n",
              "    <tr style=\"text-align: right;\">\n",
              "      <th></th>\n",
              "      <th>Name</th>\n",
              "    </tr>\n",
              "  </thead>\n",
              "  <tbody>\n",
              "    <tr>\n",
              "      <th>0</th>\n",
              "      <td>Ms Diane Abbott</td>\n",
              "    </tr>\n",
              "    <tr>\n",
              "      <th>1</th>\n",
              "      <td>Debbie Abrahams</td>\n",
              "    </tr>\n",
              "    <tr>\n",
              "      <th>2</th>\n",
              "      <td>Nigel Adams</td>\n",
              "    </tr>\n",
              "    <tr>\n",
              "      <th>3</th>\n",
              "      <td>Bim Afolami</td>\n",
              "    </tr>\n",
              "    <tr>\n",
              "      <th>4</th>\n",
              "      <td>Adam Afriyie</td>\n",
              "    </tr>\n",
              "    <tr>\n",
              "      <th>...</th>\n",
              "      <td>...</td>\n",
              "    </tr>\n",
              "    <tr>\n",
              "      <th>645</th>\n",
              "      <td>Jeremy Wright</td>\n",
              "    </tr>\n",
              "    <tr>\n",
              "      <th>646</th>\n",
              "      <td>Mohammad Yasin</td>\n",
              "    </tr>\n",
              "    <tr>\n",
              "      <th>647</th>\n",
              "      <td>Jacob Young</td>\n",
              "    </tr>\n",
              "    <tr>\n",
              "      <th>648</th>\n",
              "      <td>Nadhim Zahawi</td>\n",
              "    </tr>\n",
              "    <tr>\n",
              "      <th>649</th>\n",
              "      <td>Daniel Zeichner</td>\n",
              "    </tr>\n",
              "  </tbody>\n",
              "</table>\n",
              "<p>650 rows × 1 columns</p>\n",
              "</div>"
            ],
            "text/plain": [
              "                Name\n",
              "0    Ms Diane Abbott\n",
              "1    Debbie Abrahams\n",
              "2        Nigel Adams\n",
              "3        Bim Afolami\n",
              "4       Adam Afriyie\n",
              "..               ...\n",
              "645    Jeremy Wright\n",
              "646   Mohammad Yasin\n",
              "647      Jacob Young\n",
              "648    Nadhim Zahawi\n",
              "649  Daniel Zeichner\n",
              "\n",
              "[650 rows x 1 columns]"
            ]
          },
          "metadata": {
            "tags": []
          },
          "execution_count": 42
        }
      ]
    },
    {
      "cell_type": "markdown",
      "metadata": {
        "id": "4-OH3nZMj9xp"
      },
      "source": [
        "## Using for loop"
      ]
    },
    {
      "cell_type": "code",
      "metadata": {
        "id": "zIz8_3ALj9Qe"
      },
      "source": [
        ""
      ],
      "execution_count": null,
      "outputs": []
    },
    {
      "cell_type": "markdown",
      "metadata": {
        "id": "CM_3Vi45rFtZ"
      },
      "source": [
        "## Using list comprehension"
      ]
    },
    {
      "cell_type": "code",
      "metadata": {
        "id": "i_JoZCm_kF3_"
      },
      "source": [
        ""
      ],
      "execution_count": null,
      "outputs": []
    },
    {
      "cell_type": "markdown",
      "metadata": {
        "id": "ChhK4aU1po4M"
      },
      "source": [
        "## Using map()"
      ]
    },
    {
      "cell_type": "code",
      "metadata": {
        "id": "Xj50oGj_kGJa"
      },
      "source": [
        ""
      ],
      "execution_count": null,
      "outputs": []
    },
    {
      "cell_type": "markdown",
      "metadata": {
        "id": "ffwgVYMLy8a4"
      },
      "source": [
        "# Visit individual page and get some information\n",
        "\n",
        "For example:\n",
        "\n",
        "- https://members.parliament.uk/member/1586/contact"
      ]
    },
    {
      "cell_type": "code",
      "metadata": {
        "id": "jgvpZE_Wy1sg"
      },
      "source": [
        "bs = BeautifulSoup(urlopen('https://members.parliament.uk/member/1586/contact'), 'html.parser')"
      ],
      "execution_count": null,
      "outputs": []
    },
    {
      "cell_type": "markdown",
      "metadata": {
        "id": "gkWVWtlFLrdI"
      },
      "source": [
        "# Save the data"
      ]
    },
    {
      "cell_type": "code",
      "metadata": {
        "id": "epq4KWBhLrMW"
      },
      "source": [
        ""
      ],
      "execution_count": null,
      "outputs": []
    }
  ]
}